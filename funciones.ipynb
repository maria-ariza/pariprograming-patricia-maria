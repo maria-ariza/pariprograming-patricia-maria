{
 "cells": [
  {
   "cell_type": "markdown",
   "metadata": {},
   "source": [
    "1. Calcular el área de un círculo.\n",
    "Descripción: Crea una función llamada calcular_area_circulo que tome el radio como parámetro y devuelva el área del círculo.\n",
    "NOTA: Os dejamos aquí un link para recordar comose calculaba el área de un círculo."
   ]
  },
  {
   "cell_type": "code",
   "execution_count": 2,
   "metadata": {},
   "outputs": [],
   "source": [
    "import math"
   ]
  },
  {
   "cell_type": "code",
   "execution_count": 4,
   "metadata": {},
   "outputs": [
    {
     "data": {
      "text/plain": [
       "201.06192982974676"
      ]
     },
     "execution_count": 4,
     "metadata": {},
     "output_type": "execute_result"
    }
   ],
   "source": [
    "def calcular_area_circulo(radio):\n",
    "    return math.pi * radio ** 2\n",
    "\n",
    "area_circulo = calcular_area_circulo(8)\n",
    "area_circulo\n"
   ]
  },
  {
   "cell_type": "markdown",
   "metadata": {},
   "source": [
    "2. Contar la cantidad de caracteres en una cadena.\n",
    "Descripción: Crea una función llamada contar_caracteres que tome una cadena como parámetro y devuelva la cantidad de caracteres que contiene."
   ]
  },
  {
   "cell_type": "code",
   "execution_count": 5,
   "metadata": {},
   "outputs": [
    {
     "data": {
      "text/plain": [
       "19"
      ]
     },
     "execution_count": 5,
     "metadata": {},
     "output_type": "execute_result"
    }
   ],
   "source": [
    "def contar_caracteres(cadena):\n",
    "    cantidad_caracteres = len(cadena)\n",
    "    return cantidad_caracteres\n",
    "numero_caracteres = contar_caracteres(\"hola como te llamas\")\n",
    "numero_caracteres\n"
   ]
  },
  {
   "cell_type": "markdown",
   "metadata": {},
   "source": [
    "3. Determinar si una cadena es un palíndromo.\n",
    "Descripción: Crea una función llamada es_palindromo que tome una cadena como parámetro y devuelva True si es un palíndromo, o False si no lo es."
   ]
  },
  {
   "cell_type": "code",
   "execution_count": 7,
   "metadata": {},
   "outputs": [
    {
     "name": "stdout",
     "output_type": "stream",
     "text": [
      "True\n",
      "ana\n"
     ]
    }
   ],
   "source": [
    "def es_palindromo(palabra):\n",
    "    palabra_invertida = palabra[::-1]\n",
    "    if palabra_invertida == palabra:\n",
    "        print(\"True\")\n",
    "    else: \n",
    "       print(\"False\")\n",
    "    return palabra_invertida\n",
    "palindromo = es_palindromo(\"ana\")\n",
    "print(palindromo)\n",
    "  "
   ]
  },
  {
   "cell_type": "markdown",
   "metadata": {},
   "source": [
    "4. Calcular el promedio de una lista de números.\n",
    "Descripción: Crea una función llamada calcular_promedio que tome una lista de números como parámetro y devuelva el promedio de todos sus elementos."
   ]
  },
  {
   "cell_type": "code",
   "execution_count": 8,
   "metadata": {},
   "outputs": [
    {
     "data": {
      "text/plain": [
       "16.6"
      ]
     },
     "execution_count": 8,
     "metadata": {},
     "output_type": "execute_result"
    }
   ],
   "source": [
    "def calcular_promedio(lista_numeros):\n",
    "    media_lista = sum(lista_numeros)/len(lista_numeros)\n",
    "    return media_lista\n",
    "\n",
    "calcular_promedio([13, 16, 17, 18, 19])"
   ]
  },
  {
   "cell_type": "markdown",
   "metadata": {},
   "source": [
    "5. Calcular el interés compuesto.\n",
    "Descripción: Crea una función llamada calcular_interes_compuesto que tome el capital inicial, la tasa de interés y el número de períodos como parámetros y devuelva el beneficio final después del interés compuesto."
   ]
  },
  {
   "cell_type": "code",
   "execution_count": 13,
   "metadata": {},
   "outputs": [
    {
     "name": "stdout",
     "output_type": "stream",
     "text": [
      "9.344957821520768e+19\n"
     ]
    }
   ],
   "source": [
    "def calcular_interes_compuesto(capital_inicial, tasa_interes, numero_periodos):\n",
    "    # A = P(1+r/n)**nt ; P: capital inicial; r: tasa de interes; n numero de veces que se ha aplicado el interes por periodo; t numero de periodos\n",
    "    beneficio_final = capital_inicial*(1 + tasa_interes/12)**(numero_periodos*12)\n",
    "    return beneficio_final\n",
    "\n",
    "interes_compuesto = calcular_interes_compuesto(15000, 10, 5)\n",
    "print(round(interes_compuesto, 2))\n",
    "\n"
   ]
  },
  {
   "cell_type": "markdown",
   "metadata": {},
   "source": [
    "6. Validar si una palabra es un anagrama de otra.\n",
    "Descripción: Crea una función llamada es_anagrama que tome dos palabras como parámetros y devuelva True si una es un anagrama de la otra, o False si no lo es."
   ]
  },
  {
   "cell_type": "code",
   "execution_count": null,
   "metadata": {},
   "outputs": [],
   "source": [
    "def es_anagrama(palabra1, palabra2):\n",
    "    if len(palabra1) == len(palabra2):\n",
    "        for l in palabra1:\n",
    "            if l in palabra2:\n",
    "                \n",
    "\n"
   ]
  }
 ],
 "metadata": {
  "kernelspec": {
   "display_name": "Python 3",
   "language": "python",
   "name": "python3"
  },
  "language_info": {
   "codemirror_mode": {
    "name": "ipython",
    "version": 3
   },
   "file_extension": ".py",
   "mimetype": "text/x-python",
   "name": "python",
   "nbconvert_exporter": "python",
   "pygments_lexer": "ipython3",
   "version": "3.12.4"
  }
 },
 "nbformat": 4,
 "nbformat_minor": 2
}
