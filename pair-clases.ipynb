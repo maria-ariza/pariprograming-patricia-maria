{
 "cells": [
  {
   "cell_type": "code",
   "execution_count": 56,
   "metadata": {},
   "outputs": [],
   "source": [
    "from datetime import datetime\n",
    "\n",
    "class Empleados:\n",
    "    def __init__(self, nombre, apellidos, edad, posicion, año, herramientas):\n",
    "        self.nombre = nombre\n",
    "        self.apellidos = apellidos\n",
    "        self.edad = edad\n",
    "        self.posicion = posicion\n",
    "        self.año = año\n",
    "        self.herramientas = herramientas\n",
    "        self.vacaciones = 0\n",
    "\n",
    "    \n",
    "    def descripcion(self):\n",
    "        print(f'La empleada se llama {self.nombre} {self.apellidos}, su posición es {self.posicion} se incorporó en el año {self.año} y le quedan {self.vacaciones} días de vacaciones. ')\n",
    "    \n",
    "    def cambiando_posicion(self):\n",
    "        if 'Python' and 'Excel' in self.herramientas:\n",
    "            print('Bien hecho! Pero usa mejor Python')\n",
    "        else:\n",
    "            if 'Python' in self.herramientas:\n",
    "                print('Bien hecho! Es la mejor herramienta')\n",
    "\n",
    "            elif 'Excel' in self.herramientas:\n",
    "                print('Te recomendamos que aprendas Python')\n",
    "\n",
    "    def calcular_antiguedad(self):\n",
    "        fecha_actual = datetime.now()\n",
    "        año_actual = fecha_actual.year\n",
    "        mes_actual = fecha_actual.month\n",
    "        antiguedad_años = año_actual - self.año - 1\n",
    "        print(f'{self.nombre} lleva {antiguedad_años} años y {mes_actual} meses en la empresa.')\n",
    "\n",
    "    def solicitar_aumento_vacaciones(self, dias_solicitados):\n",
    "        if dias_solicitados > 0:\n",
    "            self.vacaciones += dias_solicitados\n",
    "            print(f'Aprobamos la solicitud. Actualmente tiene {self.vacaciones} días de vacaciones.')\n",
    "        else:\n",
    "            print('Error, introduce un número válido.')\n",
    "\n",
    "    def registrar_herramientas(self, herramientas):\n",
    "        if herramientas not in self.herramientas:\n",
    "           self.herramientas.append(herramientas)\n",
    "           print(f'Herramienta registrada correctamente: {herramientas}')\n",
    "\n",
    "        else:\n",
    "            print(f'La herramienta {herramientas} ya ha sido registrada previamente.')\n",
    "\n",
    "    def cambiar_posicion(self, nueva_posicion, nuevo_salario):\n",
    "        self.posicion = nueva_posicion\n",
    "        self.nuevo_salario = nuevo_salario\n",
    "        \n"
   ]
  },
  {
   "cell_type": "code",
   "execution_count": 53,
   "metadata": {},
   "outputs": [
    {
     "name": "stdout",
     "output_type": "stream",
     "text": [
      "La empleada se llama Andrea Lopez, su posición es Administrativa se incorporó en el año 2020 y le quedan 0 días de vacaciones. \n"
     ]
    }
   ],
   "source": [
    "empleado1 = Empleados('Andrea', 'Lopez', 30, 'Administrativa', 2020, ['Python', 'Excel'])\n",
    "\n",
    "empleado1.descripcion()"
   ]
  },
  {
   "cell_type": "code",
   "execution_count": 57,
   "metadata": {},
   "outputs": [
    {
     "ename": "TypeError",
     "evalue": "Empleados.cambiar_posicion() takes 2 positional arguments but 3 were given",
     "output_type": "error",
     "traceback": [
      "\u001b[1;31m---------------------------------------------------------------------------\u001b[0m",
      "\u001b[1;31mTypeError\u001b[0m                                 Traceback (most recent call last)",
      "Cell \u001b[1;32mIn[57], line 1\u001b[0m\n\u001b[1;32m----> 1\u001b[0m empleado1\u001b[38;5;241m.\u001b[39mcambiar_posicion(\u001b[38;5;124m'\u001b[39m\u001b[38;5;124mmarketing\u001b[39m\u001b[38;5;124m'\u001b[39m, \u001b[38;5;241m3000\u001b[39m)\n",
      "\u001b[1;31mTypeError\u001b[0m: Empleados.cambiar_posicion() takes 2 positional arguments but 3 were given"
     ]
    }
   ],
   "source": [
    "empleado1.cambiar_posicion('marketing', 3000)"
   ]
  },
  {
   "cell_type": "code",
   "execution_count": 54,
   "metadata": {},
   "outputs": [],
   "source": [
    "empleado1.cambiar_posicion('contable')"
   ]
  },
  {
   "cell_type": "code",
   "execution_count": 55,
   "metadata": {},
   "outputs": [
    {
     "data": {
      "text/plain": [
       "'contable'"
      ]
     },
     "execution_count": 55,
     "metadata": {},
     "output_type": "execute_result"
    }
   ],
   "source": [
    "empleado1.posicion"
   ]
  },
  {
   "cell_type": "code",
   "execution_count": 51,
   "metadata": {},
   "outputs": [
    {
     "name": "stdout",
     "output_type": "stream",
     "text": [
      "La herramienta Excel ya ha sido registrada previamente.\n"
     ]
    }
   ],
   "source": [
    "empleado1.registrar_herramientas('Excel')"
   ]
  },
  {
   "cell_type": "code",
   "execution_count": 50,
   "metadata": {},
   "outputs": [
    {
     "data": {
      "text/plain": [
       "['Python', 'Excel', 'Java', 'Word']"
      ]
     },
     "execution_count": 50,
     "metadata": {},
     "output_type": "execute_result"
    }
   ],
   "source": [
    "empleado1.herramientas"
   ]
  },
  {
   "cell_type": "code",
   "execution_count": 44,
   "metadata": {},
   "outputs": [
    {
     "name": "stdout",
     "output_type": "stream",
     "text": [
      "Aprobamos la solicitud. Actualmente tiene 10 días de vacaciones.\n"
     ]
    }
   ],
   "source": [
    "empleado1.solicitar_aumento_vacaciones(10)"
   ]
  },
  {
   "cell_type": "code",
   "execution_count": 36,
   "metadata": {},
   "outputs": [
    {
     "name": "stdout",
     "output_type": "stream",
     "text": [
      "Andrea lleva 3 años y 10 meses en la empresa.\n"
     ]
    }
   ],
   "source": [
    "empleado1.calcular_antiguedad()"
   ]
  },
  {
   "cell_type": "code",
   "execution_count": 14,
   "metadata": {},
   "outputs": [
    {
     "name": "stdout",
     "output_type": "stream",
     "text": [
      "Bien hecho! Pero usa mejor Python\n"
     ]
    }
   ],
   "source": [
    "empleado1.cambiando_posicion()"
   ]
  },
  {
   "cell_type": "code",
   "execution_count": 30,
   "metadata": {},
   "outputs": [
    {
     "data": {
      "text/plain": [
       "datetime.datetime(2024, 10, 2, 11, 12, 6, 545528)"
      ]
     },
     "execution_count": 30,
     "metadata": {},
     "output_type": "execute_result"
    }
   ],
   "source": [
    "datetime.now()"
   ]
  },
  {
   "cell_type": "code",
   "execution_count": null,
   "metadata": {},
   "outputs": [],
   "source": []
  }
 ],
 "metadata": {
  "kernelspec": {
   "display_name": "base",
   "language": "python",
   "name": "python3"
  },
  "language_info": {
   "codemirror_mode": {
    "name": "ipython",
    "version": 3
   },
   "file_extension": ".py",
   "mimetype": "text/x-python",
   "name": "python",
   "nbconvert_exporter": "python",
   "pygments_lexer": "ipython3",
   "version": "3.12.4"
  }
 },
 "nbformat": 4,
 "nbformat_minor": 2
}
